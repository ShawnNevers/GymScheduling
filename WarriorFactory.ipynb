{
 "cells": [
  {
   "cell_type": "markdown",
   "metadata": {},
   "source": [
    "# Schedule Linear Program"
   ]
  },
  {
   "cell_type": "code",
   "execution_count": null,
   "metadata": {},
   "outputs": [
    {
     "name": "stdout",
     "output_type": "stream",
     "text": [
      "hello\n"
     ]
    }
   ],
   "source": [
    "#call the method to make the .dat file from excel\n",
    "from DataFileFormatting import read_sheet\n",
    "read_sheet()\n",
    "import time\n",
    "from pyomo.environ import *\n",
    "from pyomo.core import Var\n",
    "#Declare the model\n",
    "model=AbstractModel()\n",
    "print(\"hello\")\n"
   ]
  },
  {
   "cell_type": "markdown",
   "metadata": {},
   "source": [
    "## Sets, Parameters, and Variables"
   ]
  },
  {
   "cell_type": "code",
   "execution_count": 2,
   "metadata": {},
   "outputs": [],
   "source": [
    "\n",
    "#sets\n",
    "model.Worker = Set() \t#Number of available workers to work\n",
    "model.Days = Set()\t\t#Days of the week Monday through Sunday\n",
    "model.Time= Set()\t\t#Hours that the Warrior Factory is open in military time\n",
    "model.Events= Set()\t\t#Types of events that occur through out the day\n",
    "model.YvalueTime=Set()\t#One hour before actually starting/working (Time-1) (For math purposes)\n",
    "\n",
    "\n",
    "\n",
    "#Parameter\n",
    "model.Prestige= Param(model.Worker)\t\t\t\t\t\t\t\t#1 if a worker is of high prestige, 0 if a worker is of average prestige\n",
    "model.Type= Param(model.Worker)\t\t\t\t\t\t\t\t\t#1 if a worker is full-time, 0 if a worker is part-time\n",
    "model.StaffingReq=Param(model.Events) \t\t\t\t\t\t\t#Number of employees required to work during each event\n",
    "model.StaffingPrestige=Param(model.Events)\t\t\t\t\t\t#Required number of employees with high prestige status to work at each event\n",
    "model.Availability= Param(model.Worker,model.Days, model.Time)\t#1 if the employee is available to work on a given day at a given hour, 0 if they are unavailable\n",
    "model.c=Param(model.Worker)\t\t\t\t\t\t\t\t\t\t#Cost per hour for employees\n",
    "model.ScheduleReq=Param(model.Days, model.Time) \t\t\t\t#Schedule of events occurring each day at each hour Warrior Factory is open \n",
    "\n",
    "#Decision variables\n",
    "model.x = Var(model.Worker,model.Days, model.Time,within=Binary) \t\t#1 if a worker will work during a given shift, 0 if they will not be working\n",
    "model.y = Var(model.Worker,model.Days, model.YvalueTime,within=Binary)\t#1 if the worker is allowed to work start working on the next hour (used for math purposes)\n",
    "model.r=Var(model.Worker,within=NonNegativeReals) \t\t\t\t\t\t#Amount of regular time hours an employee is working in a week\n",
    "model.o=Var(model.Worker,within=NonNegativeReals)\t\t\t\t\t\t#Amount of OT hours an employee is working in a week\n"
   ]
  },
  {
   "cell_type": "code",
   "execution_count": null,
   "metadata": {},
   "outputs": [],
   "source": []
  },
  {
   "cell_type": "code",
   "execution_count": 3,
   "metadata": {},
   "outputs": [],
   "source": [
    "\n",
    "#Objective Function minimizing cost in wages of the workers for the given week, employees\n",
    "#receive a regular time salary, and time and a half for overtime\n",
    "def objective_rule(model):\n",
    "    return sum(model.c[i]*model.r[i]+1.5*model.c[i]*model.o[i]  for i in model.Worker)\n",
    "model.minCost = Objective(rule=objective_rule,sense=minimize)\n"
   ]
  },
  {
   "cell_type": "markdown",
   "metadata": {},
   "source": [
    "## Relate hours worked to Overtime and Regular time"
   ]
  },
  {
   "cell_type": "code",
   "execution_count": 4,
   "metadata": {},
   "outputs": [],
   "source": [
    "\n",
    "#constraints\n",
    "\n",
    "#A worker can only work 45 hours of regular time\n",
    "def MaxRegularTime(model,i):\n",
    "    return model.r[i]<=45\n",
    "model.MaxRegularTimeConstraint=Constraint(model.Worker, rule=MaxRegularTime)\n",
    "\n",
    "#The sum of a workers regular time and overtime equals the total number of hours worked\n",
    "def OvertimeRelation(model,i):\n",
    "    return (model.o[i]+model.r[i]==sum(model.x[i,j,k] for j in model.Days for k in model.Time))\n",
    "model.OvertimeRelationConstraint=Constraint(model.Worker, rule=OvertimeRelation)\n",
    "\n"
   ]
  },
  {
   "cell_type": "markdown",
   "metadata": {},
   "source": [
    "## Worker Rules"
   ]
  },
  {
   "cell_type": "code",
   "execution_count": 5,
   "metadata": {},
   "outputs": [],
   "source": [
    "#The maximum number of hours an employee is allowed to work per week\n",
    "def MaxTimePerWorkerRule(model,i):\n",
    "    if model.Type[i] == 0:\t\t\t#A part-time worker can work up to 29.5 hours per week\n",
    "        return (sum(model.x[i,j,k] for j in model.Days for k in model.Time) <= 29.5)\n",
    "    if model.Type[i]==1:\t\t\t#A full-time worker can work up to 60 hours per week\n",
    "        return (sum(model.x[i,j,k] for j in model.Days for k in model.Time) <= 60)\n",
    "model.MaxTimePerWorker= Constraint(model.Worker,rule=MaxTimePerWorkerRule)\n",
    "\n",
    "#The minimum number of hours an employee is allowed to work per week\n",
    "def MinTimeRule(model,i):\n",
    "    if model.Type[i] == 1:\t\t\t#A full-time worker must work at least 40 hours per week\n",
    "        return (sum(model.x[i,j,k] for j in model.Days for k in model.Time)>= 40)\n",
    "    if model.Type[i] == 0:\t\t\t#A part-time does not have to work in the given week\n",
    "        return (sum(model.x[i,j,k] for j in model.Days for k in model.Time) >= 0)\n",
    "model.MinTimePerWorker= Constraint(model.Worker,rule=MinTimeRule)\n",
    "\n",
    "# If a worker is available, they may work; if they are not available they will not be scheduled to work\n",
    "def AvailabilityRule(model,i,j,k):\n",
    "    if model.Availability[i,j,k] == 0:\n",
    "        return (model.x[i,j,k] == 0)\n",
    "    if model.Availability[i,j,k] == 1:\n",
    "        return (model.x[i,j,k] <= 1)\n",
    "model.AvailabilityRule = Constraint(model.Worker,model.Days,model.Time, rule=AvailabilityRule)\n"
   ]
  },
  {
   "cell_type": "markdown",
   "metadata": {},
   "source": [
    "## Schedule Requirements"
   ]
  },
  {
   "cell_type": "code",
   "execution_count": 6,
   "metadata": {},
   "outputs": [],
   "source": [
    "\n",
    "#parties require at least one high prestige worker, all other events do not need to have a high prestige worker\n",
    "def PrestigeRequirements(model,j,k):\n",
    "    if model.ScheduleReq[j,k] == 'Party':\n",
    "        return (sum(model.Prestige[i]*model.x[i,j,k] for i in model.Worker) >= 1)\n",
    "    if model.ScheduleReq[j,k] == 'Class':\n",
    "        return (sum(model.Prestige[i]*model.x[i,j,k] for i in model.Worker) >= 0)\n",
    "    if model.ScheduleReq[j,k] == 'AdultOpenGym':\n",
    "        return (sum(model.Prestige[i]*model.x[i,j,k] for i in model.Worker) >= 0)\n",
    "    if model.ScheduleReq[j,k] == 'KidOpenGym':\n",
    "        return (sum(model.Prestige[i]*model.x[i,j,k] for i in model.Worker) >= 0)\n",
    "    if model.ScheduleReq[j,k] == 'StartDay':\n",
    "        return (sum(model.Prestige[i]*model.x[i,j,k] for i in model.Worker) >= 0)\n",
    "model.Prestige_Requirements= Constraint(model.Days,model.Time, rule=PrestigeRequirements)\n",
    "\n",
    "#Number of workers required to work each event type\n",
    "def wRequirements(model,j,k):\n",
    "    if model.ScheduleReq[j,k] == 'Party':\n",
    "        return (sum(model.x[i,j,k] for i in model.Worker) >= 6)\n",
    "    if model.ScheduleReq[j,k] == 'Class':\n",
    "        return (sum(model.x[i,j,k] for i in model.Worker) >= 3)\n",
    "    if model.ScheduleReq[j,k] == 'AdultOpenGym':\n",
    "        return (sum(model.x[i,j,k] for i in model.Worker) >= 4)\n",
    "    if model.ScheduleReq[j,k] == 'KidOpenGym':\n",
    "        return (sum(model.x[i,j,k] for i in model.Worker) >= 6)\n",
    "    if model.ScheduleReq[j,k] == 'StartDay':\t\t\t\t#used to skip constraint- non-binding\n",
    "        return (sum(model.x[i,j,k] for i in model.Worker) >= 1)\n",
    "model.w_Requirements= Constraint(model.Days,model.Time, rule=wRequirements)\n"
   ]
  },
  {
   "cell_type": "markdown",
   "metadata": {},
   "source": [
    "## Shift rules"
   ]
  },
  {
   "cell_type": "code",
   "execution_count": 7,
   "metadata": {},
   "outputs": [],
   "source": [
    "#Each employee can only start work once per day\n",
    "def ConsecutiveYRule(model,i,j):\n",
    "    return(sum(model.y[i,j,k] for k in model.YvalueTime)<=1)\n",
    "model.ConsecutiveYConstraint = Constraint(model.Worker,model.Days, rule=ConsecutiveYRule)\n",
    "\n",
    "#An employee must work a full shift, full-time employees work 8 hr shifts and part time employees work 4 hour shifts\n",
    "def ConsecutiveHourRule (model,i,j,k):\n",
    "    if model.Type[i] == 0:\t\t\t\t\t\t\t\t\t\t\t\t\t\t\t\t\t\t#the for loop for set kk counts the 4 previous hours and verifies that the worker is working these hours, \n",
    "        return model.x[i,j,k] - sum(model.y[i,j,kk] for kk in (range(max(7,k-4),k)))==0\t\t\t#and thus equals 0 because a part-time employee can only start work once\t\t\t\t\n",
    "    if model.Type[i] == 1:\t\t\t\t\t\t\t\t\t\t\t\t\t\t\t\t\t\t\t\t#the for loop for set kk counts the 8 previous hours and verifies that the worker is working these hours,\t\n",
    "        return model.x[i,j,k] - sum(model.y[i,j,kk] for kk in (range(max(7,k-8),k)))==0\t\t\t\t\t#and thus equals 0 because a full-time employee can only start work once\n",
    "model.ConsecutiveHourConstraint= Constraint(model.Worker, model.Days, model.Time, rule=ConsecutiveHourRule)\n",
    "\n",
    "#The latest time each type of employee can begin work; an employee can't start working if there are not enough hours left in the day to complete a full shift\n",
    "def LateDayRule (model,i,j):\n",
    "    if model.Type[i] == 0:\n",
    "        return model.y[i,j,18]+model.y[i,j,18+1]+model.y[i,j,18+2]+model.y[i,j,18+3]==0\n",
    "    if model.Type[i] == 1:\n",
    "        return model.y[i,j,14]+model.y[i,j,14+1]+model.y[i,j,14+2]+model.y[i,j,14+3]+model.y[i,j,14+4]+model.y[i,j,14+5]+model.y[i,j,14+6]+model.y[i,j,14+7]==0\n",
    "model.LateDayConstraint= Constraint(model.Worker, model.Days, rule=LateDayRule)\n",
    "\n",
    "\n",
    "\n",
    "#At least one person must open Warrior Factory at 8AM\n",
    "def WorkersMustOpenRule(model, j):\n",
    "    return (sum(model.y[i,j,7] for i in model.Worker)>=1)\n",
    "model.WorkerMustOpen= Constraint(model.Days,rule=WorkersMustOpenRule)"
   ]
  },
  {
   "cell_type": "markdown",
   "metadata": {},
   "source": [
    "\n",
    "\n",
    "## Running Model and Formatting"
   ]
  },
  {
   "cell_type": "code",
   "execution_count": 8,
   "metadata": {},
   "outputs": [],
   "source": [
    "\n",
    "#Running the model in PYOMO\n",
    "data = DataPortal()\n",
    "data.load(filename=\"excelData.dat\",model=model)\n",
    "optimizer=SolverFactory('glpk')\n",
    "instance=model.create_instance(data)\n",
    "optimizer.solve(instance)\n",
    "instance.display(filename=\"pyomoFormatOutput.txt\")\n"
   ]
  },
  {
   "cell_type": "code",
   "execution_count": 9,
   "metadata": {},
   "outputs": [
    {
     "name": "stdout",
     "output_type": "stream",
     "text": [
      "23:05.55\n",
      "Weekly Cost= $9140.00\n",
      "Liz - M - 9\n",
      "Liz - F - 9\n",
      "Liz - R - 9\n",
      "Liz - S - 12\n",
      "Liz - Su - 8\n",
      "Tim - M - 14\n",
      "Tim - R - 14\n",
      "Tim - T - 14\n",
      "Tim - S - 14\n",
      "Tim - W - 14\n",
      "Zoe - R - 14\n",
      "Zoe - T - 14\n",
      "Zoe - S - 14\n",
      "Zoe - W - 14\n",
      "Zoe - Su - 14\n",
      "Sam - M - 14\n",
      "Sam - F - 14\n",
      "Sam - R - 14\n",
      "Sam - T - 14\n",
      "Sam - W - 9\n",
      "Pat - M - 14\n",
      "Pat - F - 14\n",
      "Pat - R - 14\n",
      "Pat - T - 9\n",
      "Pat - W - 9\n",
      "Dan - Su - 16\n",
      "Kim - F - 9\n",
      "Kim - T - 8\n",
      "Kim - S - 8\n",
      "Kim - W - 8\n",
      "Kim - Su - 8\n",
      "Leo - M - 9\n",
      "Leo - F - 9\n",
      "Leo - R - 9\n",
      "Leo - S - 9\n",
      "Leo - W - 14\n",
      "Asa - M - 16\n",
      "Asa - F - 16\n",
      "Asa - R - 16\n",
      "Asa - T - 16\n",
      "Asa - S - 18\n",
      "Asa - W - 16\n",
      "Asa - Su - 18\n",
      "Bob - S - 8\n",
      "Bob - Su - 8\n",
      "Ken - M - 8\n",
      "Ken - F - 8\n",
      "Ken - R - 8\n",
      "Ken - S - 10\n",
      "Ken - Su - 10\n",
      "Ben - M - 16\n",
      "Ben - F - 16\n",
      "Ben - R - 16\n",
      "Ben - T - 16\n",
      "Ben - S - 18\n",
      "Ben - W - 16\n",
      "Ben - Su - 18\n",
      "Cam - S - 16\n",
      "Cam - Su - 10\n",
      "Max - M - 9\n",
      "Max - R - 9\n",
      "Max - T - 9\n",
      "Max - S - 11\n",
      "Max - Su - 12\n",
      "Meg - F - 14\n",
      "Meg - T - 9\n",
      "Meg - S - 11\n",
      "Meg - W - 9\n",
      "Meg - Su - 11\n",
      "Tom - M - 14\n",
      "Tom - F - 14\n",
      "Tom - T - 14\n",
      "Tom - W - 14\n",
      "Tom - Su - 14\n"
     ]
    }
   ],
   "source": [
    "\n",
    "#creating a more readable file \n",
    "file1 = open(\"ScheduleOutput.txt\",\"w+\")\n",
    "\n",
    "print((time.strftime(\"%H:%M.%S\")))\n",
    "print(\"Weekly Cost= $\" + str(instance.minCost.expr()) + \"0\" )\n",
    "file1.write(\" /n Weekly Cost= \")\n",
    "file1.write(\"$\" + str(instance.minCost.expr()) + \"0\" +'\\n\\n')\t#the objective function value\n",
    "\n",
    "for v in instance.component_objects(Var, active =True):         #gets the instance of the variables, and prints the x values with a value of 1\n",
    "    varobject = getattr(instance,str(v))\n",
    "    if str(v) ==\"y\":\t\t\n",
    "        file1.write(\"Schedule:\" +'\\n')\n",
    "        for index in varobject:\n",
    "            if str(varobject[index].value) == (\"1.0\"):          \n",
    "                file1.write(str(index[0]+\" will work \"+index[1]+\" at \"+str(index[2]+1)))\n",
    "                print(str(index[0]+\" - \"+index[1]+\" - \"+str(index[2]+1)))\n",
    "                file1.write('\\n')      \n",
    "\n",
    "file1.close() \n"
   ]
  },
  {
   "cell_type": "code",
   "execution_count": null,
   "metadata": {},
   "outputs": [],
   "source": []
  },
  {
   "cell_type": "code",
   "execution_count": null,
   "metadata": {},
   "outputs": [],
   "source": []
  }
 ],
 "metadata": {
  "kernelspec": {
   "display_name": "Python [conda root]",
   "language": "python",
   "name": "conda-root-py"
  },
  "language_info": {
   "codemirror_mode": {
    "name": "ipython",
    "version": 3
   },
   "file_extension": ".py",
   "mimetype": "text/x-python",
   "name": "python",
   "nbconvert_exporter": "python",
   "pygments_lexer": "ipython3",
   "version": "3.5.6"
  }
 },
 "nbformat": 4,
 "nbformat_minor": 4
}
